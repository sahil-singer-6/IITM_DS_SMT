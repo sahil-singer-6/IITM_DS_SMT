{
 "cells": [
  {
   "cell_type": "markdown",
   "id": "5342c525-1739-473c-8ebf-ae5c9d2b8b34",
   "metadata": {},
   "source": [
    "## MADE BY SAHIL WADHWA"
   ]
  },
  {
   "cell_type": "code",
   "execution_count": 5,
   "id": "873bddf2-ad98-4cd1-be85-84d9781a3993",
   "metadata": {},
   "outputs": [
    {
     "name": "stdout",
     "output_type": "stream",
     "text": [
      "-----------CALCULATOR--------------\n"
     ]
    },
    {
     "name": "stdin",
     "output_type": "stream",
     "text": [
      "Enter operand 1 : 5\n",
      "Enter operand 2 : 8\n"
     ]
    },
    {
     "name": "stdout",
     "output_type": "stream",
     "text": [
      "-----OPERATIONS----\n",
      "\n",
      "\n",
      "1) +\n",
      "2)*\n",
      "3)/\n",
      "4)-\n"
     ]
    },
    {
     "name": "stdin",
     "output_type": "stream",
     "text": [
      "write Option:-   4\n"
     ]
    },
    {
     "name": "stdout",
     "output_type": "stream",
     "text": [
      "Invalid Option\n",
      "0\n",
      "\n",
      "\n",
      "1) +\n",
      "2)*\n",
      "3)/\n",
      "4)-\n"
     ]
    },
    {
     "name": "stdin",
     "output_type": "stream",
     "text": [
      "write Option:-   /\n"
     ]
    },
    {
     "name": "stdout",
     "output_type": "stream",
     "text": [
      "0.625\n",
      "\n",
      "\n",
      "1) +\n",
      "2)*\n",
      "3)/\n",
      "4)-\n"
     ]
    },
    {
     "name": "stdin",
     "output_type": "stream",
     "text": [
      "write Option:-   \n"
     ]
    },
    {
     "name": "stdout",
     "output_type": "stream",
     "text": [
      "Terminated\n"
     ]
    }
   ],
   "source": [
    "print(\"-----------CALCULATOR--------------\")\n",
    "a = float(input(\"Enter operand 1 :\"))\n",
    "b = float(input(\"Enter operand 2 :\"))\n",
    "print(\"-----OPERATIONS----\")\n",
    "while True:\n",
    "    print(\"\\n\\n1) +\\n2)*\\n3)/\\n4)-\")\n",
    "    op = input(\"write Option:-  \").strip()\n",
    "    res = 0\n",
    "    if op == \"+\":\n",
    "        res = a+b\n",
    "    elif op == \"*\":\n",
    "        res = a*b\n",
    "    elif op ==\"/\":\n",
    "        res = a / b\n",
    "    elif op == \"-\":\n",
    "        res = a - b\n",
    "    elif op == \"\":\n",
    "        print(\"Terminated\")\n",
    "        break\n",
    "    else:\n",
    "        print(\"Invalid Option\")\n",
    "    print(res)"
   ]
  },
  {
   "cell_type": "code",
   "execution_count": 14,
   "id": "393240a4-cb51-4629-972d-eb48e3242a10",
   "metadata": {},
   "outputs": [
    {
     "name": "stdout",
     "output_type": "stream",
     "text": [
      "-----------GRADE_CALCULATOR--------------\n"
     ]
    },
    {
     "name": "stdin",
     "output_type": "stream",
     "text": [
      "Enter Total Marks :  400\n",
      "Enter Maximum Total Marks :  600\n"
     ]
    },
    {
     "name": "stdout",
     "output_type": "stream",
     "text": [
      "66\n",
      "Student has scored Grade :  C\n"
     ]
    },
    {
     "name": "stdin",
     "output_type": "stream",
     "text": [
      "Enter 0 - Exit || 1 - continue  0\n"
     ]
    }
   ],
   "source": [
    "print(\"-----------GRADE_CALCULATOR--------------\")\n",
    "while True:\n",
    "    sum_total = float(input(\"Enter Total Marks : \"))\n",
    "    Max_total = int(input(\"Enter Maximum Total Marks : \"))\n",
    "    per = (sum_total / Max_total) * 100\n",
    "    per = int(per)\n",
    "    print(per)\n",
    "    if per >= 90:\n",
    "        Grade = \"A\"\n",
    "    elif per >= 80 and per < 90:\n",
    "        res = a*b\n",
    "    elif per >= 70 and per < 80:\n",
    "        Grade = \"B\"\n",
    "    elif per >= 60 and per < 70:\n",
    "        Grade = \"C\"\n",
    "    elif per >= 50 and per < 60:\n",
    "        Grade = \"D\"\n",
    "    else:\n",
    "        Grade = \"Fail\"\n",
    "    print(\"Student has scored Grade : \",Grade)\n",
    "    inp = int(input(\"Enter 0 - Exit || 1 - continue \"));\n",
    "    if inp == 0:\n",
    "        break"
   ]
  },
  {
   "cell_type": "code",
   "execution_count": null,
   "id": "089c6850-1882-406d-8939-5301f813d8db",
   "metadata": {},
   "outputs": [],
   "source": [
    "#bus ticket fare calculator\n",
    "import datetime\n",
    "from math import *\n",
    "def Bus_TC():\n",
    "    Fare = 8\n",
    "\n",
    "    station = [\"st1\",\"st2\",\"st3\",\"st4\",\"st5\"]\n",
    "\n",
    "    start = (input(\"Enter current Station name :- \").strip()).lower()\n",
    "    end = (input(\"Enter final Station name:- \").strip()).lower()\n",
    "    age = int(input(\"Enter Your Age:- \"))\n",
    "\n",
    "    ind_st = station.index(start)\n",
    "    ind_ed = station.index(end)\n",
    "    stats = ind_ed - ind_st\n",
    "\n",
    "    if age < 18:\n",
    "        Discount = 10\n",
    "    elif age > 60:\n",
    "        Discount = 10\n",
    "    else:\n",
    "        Discount = 8\n",
    "\n",
    "    Calculated_Fair = (Discount / 100) * abs(stats * Fare) \n",
    "\n",
    "    print(\"Fair : Rs.\",Calculated_Fair)\n",
    "\n"
   ]
  },
  {
   "cell_type": "code",
   "execution_count": null,
   "id": "806b4b05-8b3e-48f2-868a-9e95a49f2614",
   "metadata": {},
   "outputs": [],
   "source": [
    "def Elec_Calc():\n",
    "    unit_rate = 10\n",
    "\n",
    "    prev = int(input('Enter Previous meter reading :- '))\n",
    "    curr = int(input(\"Enter Current Meter Reading:- \"))\n",
    "\n",
    "    Total_units = curr - prev\n",
    "\n",
    "    Bill = Total_units * unit_rate\n",
    "\n",
    "    print(\"Your Final Bill is Rs.\",Bill)"
   ]
  },
  {
   "cell_type": "code",
   "execution_count": null,
   "id": "307441d7-028a-43a8-9ada-7ff4fe2d3644",
   "metadata": {},
   "outputs": [],
   "source": [
    "def Lib_Fine():\n",
    "    curr_date = datetime.date.today()\n",
    "    dt = input(\"Enter date in format of YYYY-MM-DD :- \")\n",
    "    dt = dt.split(\"-\")\n",
    "    sub_dt = datetime.date(int(dt[0]),int(dt[1]),int(dt[2]))\n",
    "\n",
    "    fine_rate = 3\n",
    "\n",
    "    days = (curr_date - sub_dt).days\n",
    "    fine = ((days - 7) * fine_rate)\n",
    "\n",
    "    if days > 7:\n",
    "        print(\"You have Fine is Rs.\",fine)\n",
    "    else:\n",
    "        print(\"You Have No fine\")"
   ]
  },
  {
   "cell_type": "code",
   "execution_count": null,
   "id": "3cc432cf-5f90-4c78-95fa-07fc48743654",
   "metadata": {},
   "outputs": [],
   "source": [
    "def Simple_login():\n",
    "    db = {\"sahilsinger6\": [\"Sahil Wadhwa\",000000],\n",
    "          \"skycraft81\": [\"Shrey Yadav\",222222],\n",
    "          \"vedrules69\": [\"Vedant Khanna\",111111]}\n",
    "    \n",
    "    user = input(\"Enter Username : \").strip()\n",
    "    password = int(input(\"Enter the password :- \"))\n",
    "    i = 0\n",
    "    flag = 0\n",
    "    for k,v in db.items():\n",
    "        if i > 3:\n",
    "            break\n",
    "        if k == user:\n",
    "            if password == v[1]:\n",
    "                print(\"Welcome Mr.\",v[0])\n",
    "                flag = 1\n",
    "                break\n",
    "            else:\n",
    "                print(\"Wrong Password\")\n",
    "        i += 1\n",
    "    if flag != 1:\n",
    "        print(\"User Not Found\")\n",
    "\n",
    "Simple_login()"
   ]
  }
 ],
 "metadata": {
  "kernelspec": {
   "display_name": "Python 3 (ipykernel)",
   "language": "python",
   "name": "python3"
  },
  "language_info": {
   "codemirror_mode": {
    "name": "ipython",
    "version": 3
   },
   "file_extension": ".py",
   "mimetype": "text/x-python",
   "name": "python",
   "nbconvert_exporter": "python",
   "pygments_lexer": "ipython3",
   "version": "3.8.0"
  }
 },
 "nbformat": 4,
 "nbformat_minor": 5
}
