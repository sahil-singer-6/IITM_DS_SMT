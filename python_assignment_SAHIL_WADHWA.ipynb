{
 "cells": [
  {
   "cell_type": "markdown",
   "id": "aae69e62",
   "metadata": {},
   "source": [
    "## SAHIL WADHWA PYTHON ASSIGNMENT"
   ]
  },
  {
   "cell_type": "code",
   "execution_count": null,
   "id": "1f784420",
   "metadata": {},
   "outputs": [],
   "source": [
    "# Q1. Largest of three numbers\n",
    "a = int(input(\"Enter first number: \"))\n",
    "b = int(input(\"Enter second number: \"))\n",
    "c = int(input(\"Enter third number: \"))\n",
    "if a >= b and a >= c:\n",
    "    print(\"Largest is:\", a)\n",
    "elif b >= a and b >= c:\n",
    "    print(\"Largest is:\", b)\n",
    "else:\n",
    "    print(\"Largest is:\", c)"
   ]
  },
  {
   "cell_type": "code",
   "execution_count": null,
   "id": "efc47e95",
   "metadata": {},
   "outputs": [],
   "source": [
    "# Q2. Even or Odd\n",
    "n = int(input(\"Enter a number: \"))\n",
    "if n % 2 == 0:\n",
    "    print(\"Even\")\n",
    "else:\n",
    "    print(\"Odd\")"
   ]
  },
  {
   "cell_type": "code",
   "execution_count": null,
   "id": "76e8df7a",
   "metadata": {},
   "outputs": [],
   "source": [
    "# Q3. Reverse a string\n",
    "s = input(\"Enter a string: \")\n",
    "print(\"Reversed:\", s[::-1])"
   ]
  },
  {
   "cell_type": "code",
   "execution_count": null,
   "id": "ccd85577",
   "metadata": {},
   "outputs": [],
   "source": [
    "# Q4. Count vowels in string\n",
    "s = input(\"Enter a string: \")\n",
    "count = 0\n",
    "for ch in s.lower():\n",
    "    if ch in 'aeiou':\n",
    "        count += 1\n",
    "print(\"Vowels:\", count)"
   ]
  },
  {
   "cell_type": "code",
   "execution_count": null,
   "id": "f4312b39",
   "metadata": {},
   "outputs": [],
   "source": [
    "# Q5. Calculator using if-else\n",
    "a = float(input(\"Enter first number: \"))\n",
    "b = float(input(\"Enter second number: \"))\n",
    "op = input(\"Enter operator (+ - * /): \")\n",
    "if op == '+':\n",
    "    print(\"Result:\", a + b)\n",
    "elif op == '-':\n",
    "    print(\"Result:\", a - b)\n",
    "elif op == '*':\n",
    "    print(\"Result:\", a * b)\n",
    "elif op == '/':\n",
    "    print(\"Result:\", a / b)\n",
    "else:\n",
    "    print(\"Invalid operator\")"
   ]
  },
  {
   "cell_type": "code",
   "execution_count": null,
   "id": "a0001299",
   "metadata": {},
   "outputs": [],
   "source": [
    "# Q6. Prime check\n",
    "n = int(input(\"Enter a number: \"))\n",
    "if n > 1:\n",
    "    for i in range(2, n):\n",
    "        if n % i == 0:\n",
    "            print(\"Not Prime\")\n",
    "            break\n",
    "    else:\n",
    "        print(\"Prime\")\n",
    "else:\n",
    "    print(\"Not Prime\")"
   ]
  },
  {
   "cell_type": "code",
   "execution_count": null,
   "id": "947dc1fc",
   "metadata": {},
   "outputs": [],
   "source": [
    "# Q7. Multiplication table\n",
    "n = int(input(\"Enter a number: \"))\n",
    "for i in range(1, 11):\n",
    "    print(f\"{n} x {i} = {n*i}\")"
   ]
  },
  {
   "cell_type": "code",
   "execution_count": null,
   "id": "735c4fe7",
   "metadata": {},
   "outputs": [],
   "source": [
    "# Q8. Fibonacci series\n",
    "n = int(input(\"Enter number of terms: \"))\n",
    "a, b = 0, 1\n",
    "for _ in range(n):\n",
    "    print(a, end=' ')\n",
    "    a, b = b, a + b"
   ]
  },
  {
   "cell_type": "code",
   "execution_count": null,
   "id": "3b9133dd",
   "metadata": {},
   "outputs": [],
   "source": [
    "# Q9. Factorial using loop\n",
    "n = int(input(\"\\nEnter a number: \"))\n",
    "fact = 1\n",
    "for i in range(1, n + 1):\n",
    "    fact *= i\n",
    "print(\"Factorial:\", fact)"
   ]
  },
  {
   "cell_type": "code",
   "execution_count": null,
   "id": "10e192d9",
   "metadata": {},
   "outputs": [],
   "source": [
    "# Q10. Palindrome number\n",
    "n = input(\"Enter a number: \")\n",
    "if n == n[::-1]:\n",
    "    print(\"Palindrome\")\n",
    "else:\n",
    "    print(\"Not Palindrome\")"
   ]
  },
  {
   "cell_type": "code",
   "execution_count": null,
   "id": "54f1a25b",
   "metadata": {},
   "outputs": [],
   "source": [
    "# Q11. Sum of digits\n",
    "n = int(input(\"Enter a number: \"))\n",
    "total = 0\n",
    "while n > 0:\n",
    "    total += n % 10\n",
    "    n //= 10\n",
    "print(\"Sum of digits:\", total)"
   ]
  },
  {
   "cell_type": "code",
   "execution_count": null,
   "id": "53715809",
   "metadata": {},
   "outputs": [],
   "source": [
    "# Q12. Celsius to Fahrenheit\n",
    "c = float(input(\"Enter temp in Celsius: \"))\n",
    "f = (c * 9/5) + 32\n",
    "print(\"Fahrenheit:\", f)"
   ]
  },
  {
   "cell_type": "code",
   "execution_count": null,
   "id": "15ce871a",
   "metadata": {},
   "outputs": [],
   "source": [
    "# Q13. Max of two numbers\n",
    "def max_two(a, b):\n",
    "    if a > b:\n",
    "        return a\n",
    "    else:\n",
    "        return b\n",
    "print(max_two(5, 10))"
   ]
  },
  {
   "cell_type": "code",
   "execution_count": null,
   "id": "00cc23e3",
   "metadata": {},
   "outputs": [],
   "source": [
    "# Q14. Average of list\n",
    "lst = list(map(int, input(\"Enter numbers: \").split()))\n",
    "print(\"Average:\", sum(lst)/len(lst))"
   ]
  },
  {
   "cell_type": "code",
   "execution_count": null,
   "id": "b88fcd8b",
   "metadata": {},
   "outputs": [],
   "source": [
    "# Q15. Second largest\n",
    "lst = list(map(int, input(\"Enter numbers: \").split()))\n",
    "lst = list(set(lst))\n",
    "lst.sort()\n",
    "print(\"Second largest:\", lst[-2])"
   ]
  },
  {
   "cell_type": "code",
   "execution_count": null,
   "id": "e0ca3840",
   "metadata": {},
   "outputs": [],
   "source": [
    "# Q16. Count words in sentence\n",
    "s = input(\"Enter a sentence: \")\n",
    "words = s.split()\n",
    "print(\"Words:\", len(words))"
   ]
  },
  {
   "cell_type": "code",
   "execution_count": null,
   "id": "a84a28ae",
   "metadata": {},
   "outputs": [],
   "source": [
    "# Q17. Remove duplicates\n",
    "lst = list(map(int, input(\"Enter numbers: \").split()))\n",
    "print(\"Without duplicates:\", list(set(lst)))"
   ]
  },
  {
   "cell_type": "code",
   "execution_count": null,
   "id": "9616aade",
   "metadata": {},
   "outputs": [],
   "source": [
    "# Q18. Dictionary from two lists\n",
    "keys = input(\"Enter keys: \").split()\n",
    "values = input(\"Enter values: \").split()\n",
    "d = dict(zip(keys, values))\n",
    "print(d)"
   ]
  },
  {
   "cell_type": "code",
   "execution_count": null,
   "id": "281c0f5e",
   "metadata": {},
   "outputs": [],
   "source": [
    "# Q19. Sort list without sort()\n",
    "lst = list(map(int, input(\"Enter numbers: \").split()))\n",
    "for i in range(len(lst)):\n",
    "    for j in range(i+1, len(lst)):\n",
    "        if lst[i] > lst[j]:\n",
    "            lst[i], lst[j] = lst[j], lst[i]\n",
    "print(\"Sorted list:\", lst)"
   ]
  },
  {
   "cell_type": "code",
   "execution_count": null,
   "id": "a3e43ab7",
   "metadata": {},
   "outputs": [],
   "source": [
    "# Q20. Check pangram\n",
    "import string\n",
    "def is_pangram(s):\n",
    "    s = s.lower()\n",
    "    for c in string.ascii_lowercase:\n",
    "        if c not in s:\n",
    "            return False\n",
    "    return True\n",
    "print(is_pangram(\"The quick brown fox jumps over the lazy dog\"))"
   ]
  },
  {
   "cell_type": "code",
   "execution_count": null,
   "id": "0efa0843",
   "metadata": {},
   "outputs": [],
   "source": [
    "# Q21. Check if input is number\n",
    "def is_number(n):\n",
    "    try:\n",
    "        float(n)\n",
    "        return True\n",
    "    except:\n",
    "        return False\n",
    "print(is_number(\"123\"))"
   ]
  },
  {
   "cell_type": "code",
   "execution_count": null,
   "id": "1e55d474",
   "metadata": {},
   "outputs": [],
   "source": [
    "# Q22. Check anagram\n",
    "s1 = input(\"First string: \")\n",
    "s2 = input(\"Second string: \")\n",
    "if sorted(s1) == sorted(s2):\n",
    "    print(\"Anagram\")\n",
    "else:\n",
    "    print(\"Not Anagram\")"
   ]
  },
  {
   "cell_type": "code",
   "execution_count": null,
   "id": "61a79856",
   "metadata": {},
   "outputs": [],
   "source": [
    "# Q23. Number to binary, octal, hex\n",
    "n = int(input(\"Enter number: \"))\n",
    "print(\"Binary:\", bin(n))\n",
    "print(\"Octal:\", oct(n))\n",
    "print(\"Hexadecimal:\", hex(n))"
   ]
  },
  {
   "cell_type": "code",
   "execution_count": null,
   "id": "ad8946ff",
   "metadata": {},
   "outputs": [],
   "source": [
    "# Q24. Print elements > 50\n",
    "lst = list(map(int, input(\"Enter numbers: \").split()))\n",
    "for i in lst:\n",
    "    if i > 50:\n",
    "        print(i)"
   ]
  },
  {
   "cell_type": "code",
   "execution_count": null,
   "id": "1cf08eba",
   "metadata": {},
   "outputs": [],
   "source": [
    "# Q25. Count uppercase and lowercase\n",
    "s = input(\"Enter a string: \")\n",
    "uc = lc = 0\n",
    "for ch in s:\n",
    "    if ch.isupper():\n",
    "        uc += 1\n",
    "    elif ch.islower():\n",
    "        lc += 1\n",
    "print(\"Uppercase:\", uc)\n",
    "print(\"Lowercase:\", lc)"
   ]
  },
  {
   "cell_type": "code",
   "execution_count": null,
   "id": "ad0ac746",
   "metadata": {},
   "outputs": [],
   "source": [
    "# Q26. Lambda to square list elements\n",
    "lst = [1, 2, 3, 4, 5]\n",
    "squared = list(map(lambda x: x**2, lst))\n",
    "print(\"Squares:\", squared)"
   ]
  },
  {
   "cell_type": "code",
   "execution_count": null,
   "id": "d12633df",
   "metadata": {},
   "outputs": [],
   "source": [
    "# Q27. Prime numbers from 1 to 100\n",
    "def is_prime(n):\n",
    "    if n < 2:\n",
    "        return False\n",
    "    for i in range(2, n):\n",
    "        if n % i == 0:\n",
    "            return False\n",
    "    return True\n",
    "\n",
    "primes = [x for x in range(1, 101) if is_prime(x)]\n",
    "print(\"Primes 1-100:\", primes)"
   ]
  },
  {
   "cell_type": "code",
   "execution_count": null,
   "id": "7dba7d8f",
   "metadata": {},
   "outputs": [],
   "source": [
    "# Q28. Calculator using functions\n",
    "def add(a, b): return a + b\n",
    "def sub(a, b): return a - b\n",
    "def mul(a, b): return a * b\n",
    "def div(a, b): return a / b\n",
    "\n",
    "a = float(input(\"Enter first: \"))\n",
    "b = float(input(\"Enter second: \"))\n",
    "op = input(\"Operator (+ - * /): \")\n",
    "if op == '+':\n",
    "    print(add(a, b))\n",
    "elif op == '-':\n",
    "    print(sub(a, b))\n",
    "elif op == '*':\n",
    "    print(mul(a, b))\n",
    "elif op == '/':\n",
    "    print(div(a, b))\n",
    "else:\n",
    "    print(\"Invalid\")"
   ]
  },
  {
   "cell_type": "code",
   "execution_count": null,
   "id": "8ad14bef",
   "metadata": {},
   "outputs": [],
   "source": [
    "# Q29. Recursive factorial\n",
    "def fact(n):\n",
    "    if n == 0 or n == 1:\n",
    "        return 1\n",
    "    return n * fact(n - 1)\n",
    "print(fact(5))"
   ]
  },
  {
   "cell_type": "code",
   "execution_count": null,
   "id": "d502bdf6",
   "metadata": {},
   "outputs": [],
   "source": [
    "# Q30. Student class with init\n",
    "class Student:\n",
    "    def __init__(self, name, roll):\n",
    "        self.name = name\n",
    "        self.roll = roll\n",
    "\n",
    "    def show(self):\n",
    "        print(\"Name:\", self.name)\n",
    "        print(\"Roll No:\", self.roll)\n",
    "\n",
    "s = Student(\"Sahil\", 101)\n",
    "s.show()"
   ]
  },
  {
   "cell_type": "code",
   "execution_count": null,
   "id": "7961390c",
   "metadata": {},
   "outputs": [],
   "source": [
    "# Q31. Read file, count lines and words\n",
    "with open(\"sample.txt\", \"r\") as f:\n",
    "    lines = f.readlines()\n",
    "    word_count = sum(len(line.split()) for line in lines)\n",
    "    print(\"Lines:\", len(lines))\n",
    "    print(\"Words:\", word_count)"
   ]
  },
  {
   "cell_type": "code",
   "execution_count": null,
   "id": "367df966",
   "metadata": {},
   "outputs": [],
   "source": [
    "# Q32. Decorator to print execution time\n",
    "import time\n",
    "def timer(func):\n",
    "    def wrapper():\n",
    "        start = time.time()\n",
    "        func()\n",
    "        end = time.time()\n",
    "        print(\"Time taken:\", end - start)\n",
    "    return wrapper\n",
    "\n",
    "@timer\n",
    "def test():\n",
    "    for _ in range(1000000):\n",
    "        pass\n",
    "test()"
   ]
  },
  {
   "cell_type": "code",
   "execution_count": null,
   "id": "098533c3",
   "metadata": {},
   "outputs": [],
   "source": [
    "# Q33. Bank Account class\n",
    "class BankAccount:\n",
    "    def __init__(self, balance=0):\n",
    "        self.balance = balance\n",
    "\n",
    "    def deposit(self, amt):\n",
    "        self.balance += amt\n",
    "\n",
    "    def withdraw(self, amt):\n",
    "        if amt <= self.balance:\n",
    "            self.balance -= amt\n",
    "        else:\n",
    "            print(\"Insufficient funds\")\n",
    "\n",
    "    def show(self):\n",
    "        print(\"Balance:\", self.balance)\n",
    "\n",
    "acc = BankAccount()\n",
    "acc.deposit(1000)\n",
    "acc.withdraw(500)\n",
    "acc.show()"
   ]
  },
  {
   "cell_type": "code",
   "execution_count": null,
   "id": "80e28be5",
   "metadata": {},
   "outputs": [],
   "source": [
    "# Q34. Generator for even numbers\n",
    "def even_gen(n):\n",
    "    for i in range(2, n+1, 2):\n",
    "        yield i\n",
    "\n",
    "for num in even_gen(10):\n",
    "    print(num, end=' ')"
   ]
  },
  {
   "cell_type": "code",
   "execution_count": null,
   "id": "21863708",
   "metadata": {},
   "outputs": [],
   "source": [
    "# Q35. *args and **kwargs\n",
    "def display(*args, **kwargs):\n",
    "    for a in args:\n",
    "        print(\"Arg:\", a)\n",
    "    for key, val in kwargs.items():\n",
    "        print(f\"{key}: {val}\")\n",
    "\n",
    "display(1, 2, 3, name=\"Sahil\", age=20)"
   ]
  },
  {
   "cell_type": "code",
   "execution_count": null,
   "id": "e40e4d08",
   "metadata": {},
   "outputs": [],
   "source": [
    "# Q36. List comprehension of even squares\n",
    "squares = [x**2 for x in range(1, 21) if x % 2 == 0]\n",
    "print(\"Even squares:\", squares)"
   ]
  },
  {
   "cell_type": "code",
   "execution_count": null,
   "id": "46e72f43",
   "metadata": {},
   "outputs": [],
   "source": [
    "# Q37. Unique elements\n",
    "def unique_list(lst):\n",
    "    return list(set(lst))\n",
    "\n",
    "print(unique_list([1, 2, 2, 3, 4, 4, 5]))"
   ]
  },
  {
   "cell_type": "code",
   "execution_count": null,
   "id": "3ba22a7f",
   "metadata": {},
   "outputs": [],
   "source": [
    "# Q38. Merge dictionaries\n",
    "a = {'x': 1, 'y': 2}\n",
    "b = {'y': 3, 'z': 4}\n",
    "merged = {**a, **b}\n",
    "print(\"Merged:\", merged)"
   ]
  },
  {
   "cell_type": "code",
   "execution_count": null,
   "id": "b02d1dc0",
   "metadata": {},
   "outputs": [],
   "source": [
    "# Q39. Inheritance with method override\n",
    "class A:\n",
    "    def show(self):\n",
    "        print(\"Class A\")\n",
    "\n",
    "class B(A):\n",
    "    def show(self):\n",
    "        print(\"Class B (override)\")\n",
    "\n",
    "b = B()\n",
    "b.show()"
   ]
  },
  {
   "cell_type": "code",
   "execution_count": null,
   "id": "eecfce5a",
   "metadata": {},
   "outputs": [],
   "source": [
    "# Q40. Common elements in two lists\n",
    "l1 = [1, 2, 3, 4]\n",
    "l2 = [3, 4, 5, 6]\n",
    "common = [x for x in l1 if x in l2]\n",
    "print(\"Common:\", common)"
   ]
  },
  {
   "cell_type": "code",
   "execution_count": null,
   "id": "c219dc5c",
   "metadata": {},
   "outputs": [],
   "source": [
    "# Q41. try-except-finally\n",
    "try:\n",
    "    x = int(input(\"Enter a number: \"))\n",
    "    print(100 / x)\n",
    "except ZeroDivisionError:\n",
    "    print(\"Can't divide by 0\")\n",
    "finally:\n",
    "    print(\"Done\")"
   ]
  },
  {
   "cell_type": "code",
   "execution_count": null,
   "id": "c611b354",
   "metadata": {},
   "outputs": [],
   "source": [
    "# Q42. Parse JSON from string\n",
    "import json\n",
    "data = '{\"name\": \"Sahil\", \"age\": 22}'\n",
    "d = json.loads(data)\n",
    "print(d[\"name\"], d[\"age\"])"
   ]
  },
  {
   "cell_type": "code",
   "execution_count": null,
   "id": "04fb8bf4",
   "metadata": {},
   "outputs": [],
   "source": [
    "# Q43. Private and protected members\n",
    "class Test:\n",
    "    def __init__(self):\n",
    "        self._protected = \"Protected\"\n",
    "        self.__private = \"Private\"\n",
    "\n",
    "    def show(self):\n",
    "        print(self._protected)\n",
    "        print(self.__private)\n",
    "\n",
    "t = Test()\n",
    "t.show()"
   ]
  },
  {
   "cell_type": "code",
   "execution_count": null,
   "id": "7b133b4a",
   "metadata": {},
   "outputs": [],
   "source": [
    "# Q44. Valid email checker\n",
    "import re\n",
    "def is_email(s):\n",
    "    pattern = r'^[\\w\\.-]+@[\\w\\.-]+\\.\\w+$'\n",
    "    return re.match(pattern, s)\n",
    "\n",
    "print(bool(is_email(\"test@example.com\")))"
   ]
  },
  {
   "cell_type": "code",
   "execution_count": null,
   "id": "059529a4",
   "metadata": {},
   "outputs": [],
   "source": [
    "# Q45. CSV to list of dicts\n",
    "import csv\n",
    "with open(\"sample.csv\") as f:\n",
    "    reader = csv.DictReader(f)\n",
    "    data = list(reader)\n",
    "    print(data)"
   ]
  },
  {
   "cell_type": "code",
   "execution_count": null,
   "id": "f7515add",
   "metadata": {},
   "outputs": [],
   "source": [
    "# Q46. Simple login system\n",
    "users = {'sahil': '1234', 'admin': 'admin'}\n",
    "u = input(\"Username: \")\n",
    "p = input(\"Password: \")\n",
    "if u in users and users[u] == p:\n",
    "    print(\"Login successful\")\n",
    "else:\n",
    "    print(\"Invalid\")"
   ]
  },
  {
   "cell_type": "code",
   "execution_count": null,
   "id": "d5317cdf",
   "metadata": {},
   "outputs": [],
   "source": [
    "# Q47. Flatten nested list (recursion)\n",
    "def flatten(lst):\n",
    "    result = []\n",
    "    for i in lst:\n",
    "        if isinstance(i, list):\n",
    "            result += flatten(i)\n",
    "        else:\n",
    "            result.append(i)\n",
    "    return result\n",
    "\n",
    "print(flatten([1, [2, [3, 4]], 5]))"
   ]
  },
  {
   "cell_type": "code",
   "execution_count": null,
   "id": "28d56d27",
   "metadata": {},
   "outputs": [],
   "source": [
    "# Q48. map, filter, reduce\n",
    "from functools import reduce\n",
    "lst = [1, 2, 3, 4, 5]\n",
    "print(\"Map:\", list(map(lambda x: x*2, lst)))\n",
    "print(\"Filter:\", list(filter(lambda x: x % 2 == 0, lst)))\n",
    "print(\"Reduce:\", reduce(lambda x, y: x + y, lst))"
   ]
  },
  {
   "cell_type": "code",
   "execution_count": null,
   "id": "a38725af",
   "metadata": {},
   "outputs": [],
   "source": [
    "# Q49. CLI app for basic operations\n",
    "while True:\n",
    "    print(\"\\n1. Add\\n2. Subtract\\n3. Exit\")\n",
    "    choice = input(\"Choose: \")\n",
    "    if choice == '3':\n",
    "        break\n",
    "    a = int(input(\"First number: \"))\n",
    "    b = int(input(\"Second number: \"))\n",
    "    if choice == '1':\n",
    "        print(\"Result:\", a + b)\n",
    "    elif choice == '2':\n",
    "        print(\"Result:\", a - b)\n",
    "    else:\n",
    "        print(\"Invalid\")"
   ]
  },
  {
   "cell_type": "code",
   "execution_count": null,
   "id": "3165c3d1",
   "metadata": {},
   "outputs": [],
   "source": [
    "# Q50. Mini quiz\n",
    "score = 0\n",
    "q1 = input(\"Capital of India? \")\n",
    "if q1.lower() == \"delhi\":\n",
    "    score += 1\n",
    "q2 = input(\"2 + 2 = ? \")\n",
    "if q2 == \"4\":\n",
    "    score += 1\n",
    "q3 = input(\"Is Python a programming language? (yes/no): \")\n",
    "if q3.lower() == \"yes\":\n",
    "    score += 1\n",
    "print(\"Your score:\", score, \"/ 3\")"
   ]
  }
 ],
 "metadata": {
  "kernelspec": {
   "display_name": "Python (ramayana-factcheck)",
   "language": "python",
   "name": "ramayana-factcheck"
  },
  "language_info": {
   "codemirror_mode": {
    "name": "ipython",
    "version": 3
   },
   "file_extension": ".py",
   "mimetype": "text/x-python",
   "name": "python",
   "nbconvert_exporter": "python",
   "pygments_lexer": "ipython3",
   "version": "3.10.16"
  }
 },
 "nbformat": 4,
 "nbformat_minor": 5
}
