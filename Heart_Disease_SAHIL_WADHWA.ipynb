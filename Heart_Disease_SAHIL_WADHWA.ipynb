{
  "cells": [
    {
      "cell_type": "markdown",
      "metadata": {
        "id": "p8GOhyV1SBlp"
      },
      "source": [
        "## PROJECT: HEART_DISEASE_PREDICTION\n",
        "#\n",
        "MADE BY : SAHIL WADHWA\n"
      ]
    },
    {
      "cell_type": "code",
      "execution_count": 16,
      "metadata": {
        "id": "ls2k4jB0Jz8_"
      },
      "outputs": [],
      "source": [
        "import pandas as pd\n",
        "import numpy as np\n",
        "from sklearn.ensemble import RandomForestClassifier\n",
        "from sklearn.model_selection import train_test_split\n",
        "from sklearn.preprocessing import RobustScaler\n",
        "from sklearn.metrics import accuracy_score, classification_report, confusion_matrix\n",
        "import matplotlib.pyplot as plt\n",
        "import seaborn as sns\n",
        "from sklearn.svm import SVC\n",
        "from sklearn.linear_model import LogisticRegression\n",
        "from sklearn.ensemble import ExtraTreesClassifier\n",
        "from sklearn.ensemble import StackingClassifier\n",
        "from google.colab import files\n",
        "import warnings\n",
        "warnings.filterwarnings('ignore')\n"
      ]
    },
    {
      "cell_type": "code",
      "execution_count": 7,
      "metadata": {
        "id": "eN3vDSq-J2qF"
      },
      "outputs": [],
      "source": [
        "def Normalization(X,y):\n",
        "  # 🔹 Train-Test Split\n",
        "  X_train, X_test, y_train, y_test = train_test_split(\n",
        "    X, y, test_size=0.2, random_state=42\n",
        "  )\n",
        "\n",
        "  # 🔹 Scale features\n",
        "  scaler = RobustScaler()\n",
        "  X_train = scaler.fit_transform(X_train)\n",
        "  X_test = scaler.transform(X_test)\n",
        "  return(X_train,y_train,X_test,y_test)"
      ]
    },
    {
      "cell_type": "code",
      "execution_count": 25,
      "metadata": {
        "id": "V29KGih3KCJt"
      },
      "outputs": [],
      "source": [
        "def Visualization():\n",
        "  # Count the classes\n",
        "  total_counts = df['condition'].value_counts()\n",
        "  heart_sick = total_counts[1]  # Patients with heart disease\n",
        "  not_sick = total_counts[0]    # Healthy patients\n",
        "\n",
        "  print(f\"Heart Disease Dataset Analysis:\")\n",
        "  print(f\"Patients with heart disease: {heart_sick}\")\n",
        "  print(f\"Healthy patients: {not_sick}\")\n",
        "  print(f\"Total patients: {heart_sick + not_sick}\")\n",
        "\n",
        "  # Create the comparison plot\n",
        "  plt.figure(figsize=(10, 6))\n",
        "  categories = ['Not Sick', 'Sick']\n",
        "  counts = [not_sick, heart_sick]\n",
        "  colors = ['lightblue', 'lightcoral']\n",
        "\n",
        "  plt.bar(categories, counts, color=colors, alpha=0.8, edgecolor='black')\n",
        "  plt.title('Heart Disease Dataset: Sick vs Not Sick Distribution', fontsize=16, fontweight='bold')\n",
        "  plt.xlabel('Patient Status', fontsize=12)\n",
        "  plt.ylabel('Number of Patients', fontsize=12)\n",
        "\n",
        "  # Add value labels on bars\n",
        "  for i, count in enumerate(counts):\n",
        "    plt.text(i, count + 5, str(count), ha='center', fontsize=14, fontweight='bold')\n",
        "    percentage = (count / (heart_sick + not_sick)) * 100\n",
        "    plt.text(i, count/2, f'{percentage:.1f}%', ha='center', fontsize=12, color='white', fontweight='bold')\n",
        "\n",
        "  plt.ylim(0, max(counts) + 30)\n",
        "  plt.grid(axis='y', alpha=0.3)\n",
        "  plt.tight_layout()\n",
        "  plt.show()"
      ]
    },
    {
      "cell_type": "code",
      "execution_count": 20,
      "metadata": {
        "id": "FgkcsdsyJ5Oh"
      },
      "outputs": [],
      "source": [
        "def Model(X_train,y_train,X_test,y_test):\n",
        "  # Define base models (Level-0)\n",
        "  base_models = [\n",
        "        ('lr', LogisticRegression(C=1.0, random_state=42)),\n",
        "        ('rf', RandomForestClassifier(n_estimators=100, random_state=42)),\n",
        "        ('svm', SVC(probability=True, random_state=42)),\n",
        "        ('et', ExtraTreesClassifier(n_estimators=100, random_state=42))\n",
        "    ]\n",
        "\n",
        "  # Define meta-model (Level-1)\n",
        "  meta_model = ExtraTreesClassifier(n_estimators=100, random_state=42)\n",
        "\n",
        "  # Create stacking classifier\n",
        "  stacking_clf = StackingClassifier(\n",
        "        estimators=base_models,\n",
        "        final_estimator=meta_model,\n",
        "        cv=5,  # Cross-validation folds\n",
        "        stack_method='auto'\n",
        "    )\n",
        "\n",
        "    # Train the stacked model\n",
        "  stacking_clf.fit(X_train, y_train)\n",
        "\n",
        "  # Make predictions\n",
        "  y_pred = stacking_clf.predict(X_test)\n",
        "\n",
        "  #model.fit(X_train, y_train)\n",
        "  #y_pred = model.predict(X_test)\n",
        "\n",
        "  print(y_pred)\n",
        "  print(\"🔹 Model Accuracy:\", accuracy_score(y_test, y_pred))\n",
        "  print(classification_report(y_test, y_pred))\n",
        "  return (stacking_clf,y_pred)\n"
      ]
    },
    {
      "cell_type": "code",
      "execution_count": 19,
      "metadata": {
        "id": "zwPtsYo0Lmg4"
      },
      "outputs": [],
      "source": [
        "def predict_heart_disease(model):\n",
        "    print(\"Please enter the following medical details:\")\n",
        "\n",
        "    age = float(input(\"Age: \"))\n",
        "    sex = float(input(\"Sex (0 = female, 1 = male): \"))\n",
        "    cp = float(input(\"Chest pain type (0-3): \"))\n",
        "    trestbps = float(input(\"Resting blood pressure (mm Hg): \"))\n",
        "    chol = float(input(\"Serum cholesterol (mg/dl): \"))\n",
        "    fbs = float(input(\"Fasting blood sugar > 120 mg/dl (0 = no, 1 = yes): \"))\n",
        "    restecg = float(input(\"Resting ECG results (0-2): \"))\n",
        "    thalach = float(input(\"Maximum heart rate achieved: \"))\n",
        "    exang = float(input(\"Exercise induced angina (0 = no, 1 = yes): \"))\n",
        "    oldpeak = float(input(\"ST depression induced by exercise: \"))\n",
        "    slope = float(input(\"Slope of peak exercise ST segment (0-2): \"))\n",
        "    ca = float(input(\"Number of major vessels (0-3): \"))\n",
        "    thal = float(input(\"Thalassemia type (0-3): \"))\n",
        "\n",
        "    user_data = pd.DataFrame([[age, sex, cp, trestbps, chol, fbs, restecg,\n",
        "                             thalach, exang, oldpeak, slope, ca, thal]],\n",
        "                           columns=X.columns)\n",
        "\n",
        "    prediction = model.predict(user_data)\n",
        "    probability = model.predict_proba(user_data)\n",
        "\n",
        "    print(\"\\nPrediction Results:\")\n",
        "    print(\"-------------------\")\n",
        "    print(f\"Condition: {'Heart Disease' if prediction[0] == 1 else 'No Heart Disease'}\")\n",
        "    print(f\"Confidence: {probability[0][prediction[0]]*100:.2f}%\")\n",
        "\n",
        "    if prediction[0] == 1:\n",
        "        print(\"\\nRecommendation: Please consult a cardiologist.\")\n",
        "    else:\n",
        "        print(\"\\nRecommendation: Your heart health looks good, but maintain regular checkups.\")\n",
        "\n"
      ]
    },
    {
      "cell_type": "code",
      "execution_count": null,
      "metadata": {
        "id": "b5Cc61PwJ9fY"
      },
      "outputs": [],
      "source": [
        "#MAIN\n",
        "uploaded = files.upload()\n",
        "df = pd.read_csv('heart_cleveland_upload.csv')\n",
        "print(df.head())\n",
        "\n",
        "X = df[['age', 'sex', 'cp', 'trestbps', 'chol', 'fbs', 'restecg', 'thalach',\n",
        "       'exang', 'oldpeak', 'slope', 'ca', 'thal']]\n",
        "Y = df['condition']\n",
        "\n",
        "data = Normalization(X,Y)\n",
        "Visualization()\n",
        "model = Model(data[0],data[1],data[2],data[3])\n",
        "\n",
        "predict_heart_disease(model[0])"
      ]
    },
    {
      "cell_type": "code",
      "execution_count": 28,
      "metadata": {
        "colab": {
          "base_uri": "https://localhost:8080/",
          "height": 472
        },
        "id": "sGhSN9zsKFtG",
        "outputId": "118fcbe3-14fa-4ddc-c923-98b1288d06be"
      },
      "outputs": [
        {
          "data": {
            "image/png": "[encoded data removed]",
            "text/plain": [
              "<Figure size 640x480 with 2 Axes>"
            ]
          },
          "metadata": {},
          "output_type": "display_data"
        }
      ],
      "source": [
        "sns.heatmap(confusion_matrix(data[3], model[1]), annot=True, fmt='d', cmap=\"Greens\")\n",
        "plt.title(\"Stack Model - Confusion Matrix\")\n",
        "plt.xlabel(\"Predicted\")\n",
        "plt.ylabel(\"Actual\")\n",
        "plt.show()\n"
      ]
    },
    {
      "cell_type": "code",
      "execution_count": null,
      "metadata": {
        "id": "5BOEc_EfU2AY"
      },
      "outputs": [],
      "source": []
    }
  ],
  "metadata": {
    "accelerator": "GPU",
    "colab": {
      "gpuType": "T4",
      "provenance": []
    },
    "kernelspec": {
      "display_name": "Python 3",
      "name": "python3"
    },
    "language_info": {
      "name": "python"
    }
  },
  "nbformat": 4,
  "nbformat_minor": 0
}
